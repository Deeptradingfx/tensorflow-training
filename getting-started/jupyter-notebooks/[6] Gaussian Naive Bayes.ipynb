{
 "cells": [
  {
   "cell_type": "markdown",
   "metadata": {},
   "source": [
    "Naive Bayes Classifier\n",
    "===\n",
    "\n",
    "Naive Bayes classifiers are a family of probabilistic classifiers based on Bayes' theorem, with an assumption that each feature is independent from one another.\n",
    "\n",
    "This notebook is the first of three notebooks discussing a Naive Bayes classifier. This is where we try to learn about **Gaussian Naive Bayes Classifier**."
   ]
  },
  {
   "cell_type": "markdown",
   "metadata": {},
   "source": [
    "Before diving straight to Gaussian NB, we must first take a look at the Naive Bayes probabilistic model.\n",
    "\n",
    "Mathematically, give a dataset $x = (x_{1}, \\ldots, x_{n})$ to be classified, NB assigns to an example (dataset feature) a discrete probability,\n",
    "\n",
    "$$ p(C_{k}|x_{1}, \\ldots, x_{n} )$$\n",
    "\n",
    "for $K$-classes in the dataset. To learn this multivariate distribution would require a large amount of data. Thus, to simplify the task of learning, we assume that the features are conditionally independent from each other given the class. Consequently leading to the use of Bayes' theorem,\n",
    "\n",
    "$$ p(C_{k} | x) = \\dfrac{p(C_{k})p(x|C_{k})}{p(x)} $$\n",
    "\n",
    "Translating to plain English, the above equation may be understood by\n",
    "\n",
    "$$ posterior = \\dfrac{prior \\times likelihood}{evidence} $$\n",
    "\n",
    "By conditional probability, the numerator is just the *joint probability distribution* $p(C_{k}, x)$, and may be factored through chain rule,\n",
    "\n",
    "$$ p(C_{k}, x) = p(x_{1}|x_{2}, \\ldots, x_{n}, C_{k})p(x_{2}|x_{3}, \\ldots, x_{n},C_{k})p(x_{n}|C_{k})p(C_{k}) $$\n",
    "\n",
    "Now, through the assumption of conditional independence of features, i.e. each feature $x_{i}$ is conditionally independent from every other feature $x_{j}$ for $j \\neq i$, we get\n",
    "\n",
    "$$ p(x_{i} | x_{i + 1}, \\ldots, x_{n}, C_{k}) = p(x_{i} | C_{k}) $$\n",
    "\n",
    "Leading us to the expression of the joint probability model $p(C_{k}, x)$ as,\n",
    "\n",
    "$$ p(C_{k} | x_{1}, \\ldots, x_{n}) = p(C_{k}, x_{1}, \\ldots, x_{n}) = p(C_{k}) p(x_{1}|C_{k}) p(x_{2}|C_{k}) \\ldots p(x_{n}|C_{k}) = p(C_{k}) \\prod_{i=0}^{n} p(x_{i}|C_{k})$$\n",
    "\n",
    "### Building a NB Classifier\n",
    "\n",
    "What we have explored above is a naive Bayes probabilistic model. To build a classifier, we have to incorporate a decision rule, like what we have with linear regression classifier (recall that the example is if $\\hat{y} \\geq 0.5$ then output is 1, otherwise 0). For our NB classifier, we use the $argmax$ function,\n",
    "\n",
    "$$ \\hat{y} = argmax_{k \\in \\{1,\\ldots,K\\}} \\bigg(p(C_{k}) \\prod_{i=1}^{n} p(x_{i}|C_{k})\\bigg) $$\n",
    "\n",
    "## Gaussian Naive Bayes\n",
    "\n",
    "When the data at hand is continuous data, the assumption is that the continuous values for each class are distributed according to a [Gaussian distribution](https://math.stackexchange.com/questions/2288322/intuition-behind-the-normal-distribution). Recall that the probability density function of the normal (Gaussian) distribution is given by\n",
    "\n",
    "$$ f(x) = \\dfrac{1}{\\sqrt{2 \\pi \\sigma^2}} \\cdot exp\\bigg(\\dfrac{-(x - \\mu)^2}{2 \\sigma^2}\\bigg) $$\n",
    "\n",
    "where $\\sigma^2$ represents the variance of the values in $x$, while $\\mu$ represents the mean of the values in $x$.\n",
    "\n",
    "So, for Gaussian NB, suppose we have a training data which consists of continuous attribute $x$, we shall segment the data by class. Then, we compute the mean $\\mu$ and the variance $\\sigma^2$ of $x$ per class. We let $\\mu_{k}$ be the mean of the values in $x$ for class $C_{k}$, then it follows that we let $\\sigma_{k}^{2}$ be the variance of the values of $x$ for class $c_{k}$.\n",
    "\n",
    "Now, assume we have collected some observation values $x_{i}$. Thus, we have the probability density for $x_{i}$ for class $C_{k}$ as $p(x=x_{i}|C_{k})$. We plug $x_{i}$ to the Gaussian distribution equation with parameters $\\mu_{k}$ and $\\sigma_{k}^{2}$,\n",
    "\n",
    "$$ p(x = x_{i} | C_{k}) = \\dfrac{1}{\\sqrt{2 \\pi \\sigma_{k}^{2}}} \\cdot exp\\bigg(\\dfrac{-(x_{i} - \\mu_{k})^2}{2 \\sigma_{k}^{2}}\\bigg) $$"
   ]
  },
  {
   "cell_type": "markdown",
   "metadata": {},
   "source": [
    "### Example\n",
    "\n",
    "Sex classification: Classify whether a given person details pertain to a male or a female. The features are: (1) height, (2) weight, and (3) foot size. Example from [Wikipedia](https://en.wikipedia.org/wiki/Naive_Bayes_classifier#Sex_classification).\n",
    "\n",
    "|Person|height (feet)|weight (lbs)|foot size(inches)|\n",
    "|------|-------------|------------|-----------------|\n",
    "|male|6|180|12|\n",
    "|male|5.92|190|11|\n",
    "|male|5.58|170|12|\n",
    "|male|5.92|165|10|\n",
    "|female|5|100|6|\n",
    "|female|5.5|150|8|\n",
    "|female|5.42|130|7|\n",
    "|female|5.75|150|9|"
   ]
  },
  {
   "cell_type": "markdown",
   "metadata": {},
   "source": [
    "We load `numpy` and `pandas` for data handling."
   ]
  },
  {
   "cell_type": "code",
   "execution_count": 1,
   "metadata": {},
   "outputs": [],
   "source": [
    "import numpy as np\n",
    "import pandas as pd"
   ]
  },
  {
   "cell_type": "markdown",
   "metadata": {},
   "source": [
    "We load the dataset from `sex.csv`."
   ]
  },
  {
   "cell_type": "code",
   "execution_count": 2,
   "metadata": {},
   "outputs": [],
   "source": [
    "dataset = pd.read_csv('sex.csv')"
   ]
  },
  {
   "cell_type": "markdown",
   "metadata": {},
   "source": [
    "We view the dataset."
   ]
  },
  {
   "cell_type": "code",
   "execution_count": 3,
   "metadata": {},
   "outputs": [
    {
     "data": {
      "text/html": [
       "<div>\n",
       "<style>\n",
       "    .dataframe thead tr:only-child th {\n",
       "        text-align: right;\n",
       "    }\n",
       "\n",
       "    .dataframe thead th {\n",
       "        text-align: left;\n",
       "    }\n",
       "\n",
       "    .dataframe tbody tr th {\n",
       "        vertical-align: top;\n",
       "    }\n",
       "</style>\n",
       "<table border=\"1\" class=\"dataframe\">\n",
       "  <thead>\n",
       "    <tr style=\"text-align: right;\">\n",
       "      <th></th>\n",
       "      <th>Person</th>\n",
       "      <th>height</th>\n",
       "      <th>weight</th>\n",
       "      <th>foot size</th>\n",
       "    </tr>\n",
       "  </thead>\n",
       "  <tbody>\n",
       "    <tr>\n",
       "      <th>0</th>\n",
       "      <td>male</td>\n",
       "      <td>6.00</td>\n",
       "      <td>180</td>\n",
       "      <td>12</td>\n",
       "    </tr>\n",
       "    <tr>\n",
       "      <th>1</th>\n",
       "      <td>male</td>\n",
       "      <td>5.92</td>\n",
       "      <td>190</td>\n",
       "      <td>11</td>\n",
       "    </tr>\n",
       "    <tr>\n",
       "      <th>2</th>\n",
       "      <td>male</td>\n",
       "      <td>5.58</td>\n",
       "      <td>170</td>\n",
       "      <td>12</td>\n",
       "    </tr>\n",
       "    <tr>\n",
       "      <th>3</th>\n",
       "      <td>male</td>\n",
       "      <td>5.92</td>\n",
       "      <td>165</td>\n",
       "      <td>10</td>\n",
       "    </tr>\n",
       "    <tr>\n",
       "      <th>4</th>\n",
       "      <td>female</td>\n",
       "      <td>5.00</td>\n",
       "      <td>100</td>\n",
       "      <td>6</td>\n",
       "    </tr>\n",
       "    <tr>\n",
       "      <th>5</th>\n",
       "      <td>female</td>\n",
       "      <td>5.50</td>\n",
       "      <td>150</td>\n",
       "      <td>8</td>\n",
       "    </tr>\n",
       "    <tr>\n",
       "      <th>6</th>\n",
       "      <td>female</td>\n",
       "      <td>5.42</td>\n",
       "      <td>130</td>\n",
       "      <td>7</td>\n",
       "    </tr>\n",
       "    <tr>\n",
       "      <th>7</th>\n",
       "      <td>female</td>\n",
       "      <td>5.75</td>\n",
       "      <td>150</td>\n",
       "      <td>9</td>\n",
       "    </tr>\n",
       "  </tbody>\n",
       "</table>\n",
       "</div>"
      ],
      "text/plain": [
       "   Person  height  weight  foot size\n",
       "0    male    6.00     180         12\n",
       "1    male    5.92     190         11\n",
       "2    male    5.58     170         12\n",
       "3    male    5.92     165         10\n",
       "4  female    5.00     100          6\n",
       "5  female    5.50     150          8\n",
       "6  female    5.42     130          7\n",
       "7  female    5.75     150          9"
      ]
     },
     "execution_count": 3,
     "metadata": {},
     "output_type": "execute_result"
    }
   ],
   "source": [
    "dataset"
   ]
  },
  {
   "cell_type": "markdown",
   "metadata": {},
   "source": [
    "We index the labels $[male, female] \\rightarrow [0, 1] $."
   ]
  },
  {
   "cell_type": "code",
   "execution_count": 4,
   "metadata": {},
   "outputs": [],
   "source": [
    "dataset['Person'] = dataset['Person'].replace('male', 0)\n",
    "dataset['Person'] = dataset['Person'].replace('female', 1)"
   ]
  },
  {
   "cell_type": "markdown",
   "metadata": {},
   "source": [
    "Let us view the dataset again just to check."
   ]
  },
  {
   "cell_type": "code",
   "execution_count": 5,
   "metadata": {},
   "outputs": [
    {
     "data": {
      "text/html": [
       "<div>\n",
       "<style>\n",
       "    .dataframe thead tr:only-child th {\n",
       "        text-align: right;\n",
       "    }\n",
       "\n",
       "    .dataframe thead th {\n",
       "        text-align: left;\n",
       "    }\n",
       "\n",
       "    .dataframe tbody tr th {\n",
       "        vertical-align: top;\n",
       "    }\n",
       "</style>\n",
       "<table border=\"1\" class=\"dataframe\">\n",
       "  <thead>\n",
       "    <tr style=\"text-align: right;\">\n",
       "      <th></th>\n",
       "      <th>Person</th>\n",
       "      <th>height</th>\n",
       "      <th>weight</th>\n",
       "      <th>foot size</th>\n",
       "    </tr>\n",
       "  </thead>\n",
       "  <tbody>\n",
       "    <tr>\n",
       "      <th>0</th>\n",
       "      <td>0</td>\n",
       "      <td>6.00</td>\n",
       "      <td>180</td>\n",
       "      <td>12</td>\n",
       "    </tr>\n",
       "    <tr>\n",
       "      <th>1</th>\n",
       "      <td>0</td>\n",
       "      <td>5.92</td>\n",
       "      <td>190</td>\n",
       "      <td>11</td>\n",
       "    </tr>\n",
       "    <tr>\n",
       "      <th>2</th>\n",
       "      <td>0</td>\n",
       "      <td>5.58</td>\n",
       "      <td>170</td>\n",
       "      <td>12</td>\n",
       "    </tr>\n",
       "    <tr>\n",
       "      <th>3</th>\n",
       "      <td>0</td>\n",
       "      <td>5.92</td>\n",
       "      <td>165</td>\n",
       "      <td>10</td>\n",
       "    </tr>\n",
       "    <tr>\n",
       "      <th>4</th>\n",
       "      <td>1</td>\n",
       "      <td>5.00</td>\n",
       "      <td>100</td>\n",
       "      <td>6</td>\n",
       "    </tr>\n",
       "    <tr>\n",
       "      <th>5</th>\n",
       "      <td>1</td>\n",
       "      <td>5.50</td>\n",
       "      <td>150</td>\n",
       "      <td>8</td>\n",
       "    </tr>\n",
       "    <tr>\n",
       "      <th>6</th>\n",
       "      <td>1</td>\n",
       "      <td>5.42</td>\n",
       "      <td>130</td>\n",
       "      <td>7</td>\n",
       "    </tr>\n",
       "    <tr>\n",
       "      <th>7</th>\n",
       "      <td>1</td>\n",
       "      <td>5.75</td>\n",
       "      <td>150</td>\n",
       "      <td>9</td>\n",
       "    </tr>\n",
       "  </tbody>\n",
       "</table>\n",
       "</div>"
      ],
      "text/plain": [
       "   Person  height  weight  foot size\n",
       "0       0    6.00     180         12\n",
       "1       0    5.92     190         11\n",
       "2       0    5.58     170         12\n",
       "3       0    5.92     165         10\n",
       "4       1    5.00     100          6\n",
       "5       1    5.50     150          8\n",
       "6       1    5.42     130          7\n",
       "7       1    5.75     150          9"
      ]
     },
     "execution_count": 5,
     "metadata": {},
     "output_type": "execute_result"
    }
   ],
   "source": [
    "dataset"
   ]
  },
  {
   "cell_type": "markdown",
   "metadata": {},
   "source": [
    "### Mean and Variance\n",
    "\n",
    "Before we can compute for the probability distribution for features $x$, we must first compute for the mean $\\mu$ and variance $\\sigma^{2}$ values of $x_{i}$ for each $k$ class."
   ]
  },
  {
   "cell_type": "code",
   "execution_count": 6,
   "metadata": {},
   "outputs": [],
   "source": [
    "mean_male = dataset[['height', 'weight', 'foot size']][dataset['Person'] == 0].mean()\n",
    "mean_female = dataset[['height', 'weight', 'foot size']][dataset['Person'] == 1].mean()\n",
    "\n",
    "var_male = dataset[['height', 'weight', 'foot size']][dataset['Person'] == 0].var()\n",
    "var_female = dataset[['height', 'weight', 'foot size']][dataset['Person'] == 1].var()"
   ]
  },
  {
   "cell_type": "markdown",
   "metadata": {},
   "source": [
    "We view the computed values."
   ]
  },
  {
   "cell_type": "code",
   "execution_count": 7,
   "metadata": {},
   "outputs": [
    {
     "name": "stdout",
     "output_type": "stream",
     "text": [
      "Mean values for male features\n",
      "===\n",
      "height         5.855\n",
      "weight       176.250\n",
      "foot size     11.250\n",
      "dtype: float64\n",
      "\n",
      "Mean values for female features\n",
      "===\n",
      "height         5.4175\n",
      "weight       132.5000\n",
      "foot size      7.5000\n",
      "dtype: float64\n",
      "\n",
      "Variance values for male features\n",
      "===\n",
      "height         0.035033\n",
      "weight       122.916667\n",
      "foot size      0.916667\n",
      "dtype: float64\n",
      "\n",
      "Variance values for female features\n",
      "===\n",
      "height         0.097225\n",
      "weight       558.333333\n",
      "foot size      1.666667\n",
      "dtype: float64\n"
     ]
    }
   ],
   "source": [
    "print('Mean values for male features\\n===\\n{}'.format(mean_male))\n",
    "print()\n",
    "print('Mean values for female features\\n===\\n{}'.format(mean_female))\n",
    "print()\n",
    "print('Variance values for male features\\n===\\n{}'.format(var_male))\n",
    "print()\n",
    "print('Variance values for female features\\n===\\n{}'.format(var_female))"
   ]
  },
  {
   "cell_type": "markdown",
   "metadata": {},
   "source": [
    "Now that we have the $\\mu$ and $\\sigma^{2}$ values for each features $x_{i}$ per $k$-class, let us now write a function for our $likelihood$ computation, i.e. $p(x_{i}|C_{k})$. Recall that we are going to plugin the likelihood computation into the Gaussian probability density function,\n",
    "\n",
    "$$ p(x = x_{i} | C_{k}) = \\dfrac{1}{\\sqrt{2 \\pi \\sigma_{k}^{2}}} \\cdot exp\\bigg(\\dfrac{-(x_{i} - \\mu_{k})^2}{2 \\sigma_{k}^{2}}\\bigg) $$\n",
    "\n",
    "Hence, we implement the `likelihood` function as follows,"
   ]
  },
  {
   "cell_type": "code",
   "execution_count": 8,
   "metadata": {},
   "outputs": [],
   "source": [
    "def likelihood(feature, mean, variance):\n",
    "    return (1 / np.sqrt(2 * np.pi * variance)) * np.exp((-(feature - mean) ** 2) / (2 * variance))"
   ]
  },
  {
   "cell_type": "markdown",
   "metadata": {},
   "source": [
    "Now that we have defined our function for computing likelihood, let us talk about computing the $prior$ probability for $k$-classes. There are two ways to do this: (1) give an equal probability for each $k$-classes, or (2) (number of class samples) / (total number of samples). Either way, for this notebook, we shall get a prior probabiity of 0.5 since there are exactly 4 samples for each class."
   ]
  },
  {
   "cell_type": "markdown",
   "metadata": {},
   "source": [
    "Let us declare prior probabilities for each $k$ class."
   ]
  },
  {
   "cell_type": "code",
   "execution_count": 9,
   "metadata": {},
   "outputs": [],
   "source": [
    "priors = np.array([1 / np.unique(dataset.Person).shape[0]] * np.unique(dataset.Person).shape[0])"
   ]
  },
  {
   "cell_type": "code",
   "execution_count": 10,
   "metadata": {},
   "outputs": [
    {
     "data": {
      "text/plain": [
       "array([0.5, 0.5])"
      ]
     },
     "execution_count": 10,
     "metadata": {},
     "output_type": "execute_result"
    }
   ],
   "source": [
    "priors"
   ]
  },
  {
   "cell_type": "markdown",
   "metadata": {},
   "source": [
    "Our `priors` array $p(C_{k})$ has now completed our equation. We can now classify an unlabelled data. Take for example the new features we are going to insert to `dataset` below."
   ]
  },
  {
   "cell_type": "code",
   "execution_count": 11,
   "metadata": {},
   "outputs": [],
   "source": [
    "dataset.loc[dataset.shape[0]] = [-1, 6, 130, 8]"
   ]
  },
  {
   "cell_type": "markdown",
   "metadata": {},
   "source": [
    "Let us view our new `dataset`."
   ]
  },
  {
   "cell_type": "code",
   "execution_count": 12,
   "metadata": {},
   "outputs": [
    {
     "data": {
      "text/html": [
       "<div>\n",
       "<style>\n",
       "    .dataframe thead tr:only-child th {\n",
       "        text-align: right;\n",
       "    }\n",
       "\n",
       "    .dataframe thead th {\n",
       "        text-align: left;\n",
       "    }\n",
       "\n",
       "    .dataframe tbody tr th {\n",
       "        vertical-align: top;\n",
       "    }\n",
       "</style>\n",
       "<table border=\"1\" class=\"dataframe\">\n",
       "  <thead>\n",
       "    <tr style=\"text-align: right;\">\n",
       "      <th></th>\n",
       "      <th>Person</th>\n",
       "      <th>height</th>\n",
       "      <th>weight</th>\n",
       "      <th>foot size</th>\n",
       "    </tr>\n",
       "  </thead>\n",
       "  <tbody>\n",
       "    <tr>\n",
       "      <th>0</th>\n",
       "      <td>0</td>\n",
       "      <td>6.00</td>\n",
       "      <td>180</td>\n",
       "      <td>12</td>\n",
       "    </tr>\n",
       "    <tr>\n",
       "      <th>1</th>\n",
       "      <td>0</td>\n",
       "      <td>5.92</td>\n",
       "      <td>190</td>\n",
       "      <td>11</td>\n",
       "    </tr>\n",
       "    <tr>\n",
       "      <th>2</th>\n",
       "      <td>0</td>\n",
       "      <td>5.58</td>\n",
       "      <td>170</td>\n",
       "      <td>12</td>\n",
       "    </tr>\n",
       "    <tr>\n",
       "      <th>3</th>\n",
       "      <td>0</td>\n",
       "      <td>5.92</td>\n",
       "      <td>165</td>\n",
       "      <td>10</td>\n",
       "    </tr>\n",
       "    <tr>\n",
       "      <th>4</th>\n",
       "      <td>1</td>\n",
       "      <td>5.00</td>\n",
       "      <td>100</td>\n",
       "      <td>6</td>\n",
       "    </tr>\n",
       "    <tr>\n",
       "      <th>5</th>\n",
       "      <td>1</td>\n",
       "      <td>5.50</td>\n",
       "      <td>150</td>\n",
       "      <td>8</td>\n",
       "    </tr>\n",
       "    <tr>\n",
       "      <th>6</th>\n",
       "      <td>1</td>\n",
       "      <td>5.42</td>\n",
       "      <td>130</td>\n",
       "      <td>7</td>\n",
       "    </tr>\n",
       "    <tr>\n",
       "      <th>7</th>\n",
       "      <td>1</td>\n",
       "      <td>5.75</td>\n",
       "      <td>150</td>\n",
       "      <td>9</td>\n",
       "    </tr>\n",
       "    <tr>\n",
       "      <th>8</th>\n",
       "      <td>-1</td>\n",
       "      <td>6.00</td>\n",
       "      <td>130</td>\n",
       "      <td>8</td>\n",
       "    </tr>\n",
       "  </tbody>\n",
       "</table>\n",
       "</div>"
      ],
      "text/plain": [
       "   Person  height  weight  foot size\n",
       "0       0    6.00     180         12\n",
       "1       0    5.92     190         11\n",
       "2       0    5.58     170         12\n",
       "3       0    5.92     165         10\n",
       "4       1    5.00     100          6\n",
       "5       1    5.50     150          8\n",
       "6       1    5.42     130          7\n",
       "7       1    5.75     150          9\n",
       "8      -1    6.00     130          8"
      ]
     },
     "execution_count": 12,
     "metadata": {},
     "output_type": "execute_result"
    }
   ],
   "source": [
    "dataset"
   ]
  },
  {
   "cell_type": "markdown",
   "metadata": {},
   "source": [
    "Let us get our first likelihood value, starting with `height`."
   ]
  },
  {
   "cell_type": "code",
   "execution_count": 13,
   "metadata": {},
   "outputs": [],
   "source": [
    "x_1 = likelihood(feature=dataset.loc[8]['height'],\n",
    "                 mean=np.array([mean_male['height'], mean_female['height']]),\n",
    "                 variance=np.array([var_male['height'], var_female['height']]))"
   ]
  },
  {
   "cell_type": "markdown",
   "metadata": {},
   "source": [
    "This completes our $p(x=x_{1} | C_{k})$. Let us take a look at what we got."
   ]
  },
  {
   "cell_type": "code",
   "execution_count": 14,
   "metadata": {},
   "outputs": [
    {
     "name": "stdout",
     "output_type": "stream",
     "text": [
      "[1.57888318 0.22345873]\n"
     ]
    }
   ],
   "source": [
    "print(x_1)"
   ]
  },
  {
   "cell_type": "markdown",
   "metadata": {},
   "source": [
    "Oh, dear lord. That's not a probability distribution. Recall that our Gaussian-infused $p(x_{i} | C_{k})$ equation gives a probability density, not a probability distribution. So, we are still on the right track. To get the equivalent probaility distribution, we only need to **normalize** the probability density. This is where our previously-ignored `evidence` comes into use. Take note that the `evidence` may be computed as follows,\n",
    "\n",
    "$$ evidence = \\sum_{i = 0}^{k - 1} \\Bigg( p(c_{i}) \\prod_{j = 0}^{n - 1} p(x_{j} | c_{i}) \\Bigg) $$\n",
    "\n",
    "Concretely, the `evidence` may be computed as follows in this case,\n",
    "\n",
    "$$ evidence = p(male)\\ p(height|male)\\ p(weight|male)\\ p(foot\\ size|male)\\ +\\ p(female)\\ p(height|female)\\ p(weight|female)\\ p(foot\\ size|female) $$\n",
    "\n",
    "In other words, the `evidence` is the sum of all joint probability $p(C_{k}, x)$."
   ]
  },
  {
   "cell_type": "markdown",
   "metadata": {},
   "source": [
    "But for now, let us move on to the computation of likelihood values for the next features."
   ]
  },
  {
   "cell_type": "code",
   "execution_count": 15,
   "metadata": {},
   "outputs": [],
   "source": [
    "# weight feature\n",
    "x_2 = likelihood(feature=dataset.loc[8]['weight'],\n",
    "                 mean=np.array([mean_male['weight'], mean_female['weight']]),\n",
    "                 variance=np.array([var_male['weight'], var_female['weight']]))\n",
    "\n",
    "# foot size feature\n",
    "x_3 = likelihood(feature=dataset.loc[8]['foot size'],\n",
    "                 mean=np.array([mean_male['foot size'], mean_female['foot size']]),\n",
    "                 variance=np.array([var_male['foot size'], var_female['foot size']]))"
   ]
  },
  {
   "cell_type": "markdown",
   "metadata": {},
   "source": [
    "Now that we have all the likelihood values and our prior probabilities, the variables in our equation are now complete.\n",
    "\n",
    "$$ prediction = prior \\times x_{1} \\times x_{2} \\times x_{3} $$ \n",
    "\n",
    "The above equation is equivalent to the one we defined above, i.e. $p(C_{k}) \\prod_{i=0}^{n} p(x_{i}|C_{k})$."
   ]
  },
  {
   "cell_type": "code",
   "execution_count": 16,
   "metadata": {},
   "outputs": [],
   "source": [
    "prediction = priors * x_1 * x_2 * x_3"
   ]
  },
  {
   "cell_type": "code",
   "execution_count": 17,
   "metadata": {},
   "outputs": [
    {
     "data": {
      "text/plain": [
       "array([6.19707184e-09, 5.37790918e-04])"
      ]
     },
     "execution_count": 17,
     "metadata": {},
     "output_type": "execute_result"
    }
   ],
   "source": [
    "prediction"
   ]
  },
  {
   "cell_type": "markdown",
   "metadata": {},
   "source": [
    "Now, we shall normalize the predictions using the equation for `evidence` we have defined above, which may be simply implemented as follows."
   ]
  },
  {
   "cell_type": "code",
   "execution_count": 18,
   "metadata": {},
   "outputs": [],
   "source": [
    "prediction = prediction / np.sum(prediction)"
   ]
  },
  {
   "cell_type": "code",
   "execution_count": 19,
   "metadata": {},
   "outputs": [
    {
     "data": {
      "text/plain": [
       "array([1.15230663e-05, 9.99988477e-01])"
      ]
     },
     "execution_count": 19,
     "metadata": {},
     "output_type": "execute_result"
    }
   ],
   "source": [
    "prediction"
   ]
  },
  {
   "cell_type": "markdown",
   "metadata": {},
   "source": [
    "If you cannot believe that the `prediction` values now sum up to 1, i.e. a probability distribution, let us get its sum."
   ]
  },
  {
   "cell_type": "code",
   "execution_count": 20,
   "metadata": {},
   "outputs": [
    {
     "data": {
      "text/plain": [
       "1.0"
      ]
     },
     "execution_count": 20,
     "metadata": {},
     "output_type": "execute_result"
    }
   ],
   "source": [
    "np.sum(prediction)"
   ]
  },
  {
   "cell_type": "markdown",
   "metadata": {},
   "source": [
    "See, it adds up to 1. Now, to get our predicted class, let us now use the $argmax$ function."
   ]
  },
  {
   "cell_type": "code",
   "execution_count": 21,
   "metadata": {},
   "outputs": [],
   "source": [
    "predicted_class = np.argmax(prediction)"
   ]
  },
  {
   "cell_type": "code",
   "execution_count": 22,
   "metadata": {},
   "outputs": [
    {
     "name": "stdout",
     "output_type": "stream",
     "text": [
      "1\n"
     ]
    }
   ],
   "source": [
    "print(predicted_class)"
   ]
  },
  {
   "cell_type": "markdown",
   "metadata": {},
   "source": [
    "Recall that the index `1` refers to `female`, hence the predicted class is `female`."
   ]
  },
  {
   "cell_type": "markdown",
   "metadata": {},
   "source": [
    "That finishes that Gaussian Naive Bayes classifier from scratch."
   ]
  },
  {
   "cell_type": "markdown",
   "metadata": {},
   "source": [
    "#### References\n",
    "\n",
    "[Naive Bayes classifiers in TensorFlow](https://nicolovaligi.com/naive-bayes-tensorflow.html) by Nicolò Valigi.\n",
    "\n",
    "[Naive Bayes classifier](https://en.wikipedia.org/wiki/Naive_Bayes_classifier) in Wikipedia."
   ]
  }
 ],
 "metadata": {
  "kernelspec": {
   "display_name": "Python 3",
   "language": "python",
   "name": "python3"
  },
  "language_info": {
   "codemirror_mode": {
    "name": "ipython",
    "version": 3
   },
   "file_extension": ".py",
   "mimetype": "text/x-python",
   "name": "python",
   "nbconvert_exporter": "python",
   "pygments_lexer": "ipython3",
   "version": "3.6.2"
  }
 },
 "nbformat": 4,
 "nbformat_minor": 2
}
