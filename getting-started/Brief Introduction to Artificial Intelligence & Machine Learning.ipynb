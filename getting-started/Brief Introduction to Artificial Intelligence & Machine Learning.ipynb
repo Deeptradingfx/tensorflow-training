{
 "cells": [
  {
   "cell_type": "markdown",
   "metadata": {},
   "source": [
    "# Artificial Intelligence\n",
    "\n",
    "\"Artificial Intelligence (AI) is the Science and engineering of making intelligent machines.\" -- Professor John McCarthy\n",
    "\n",
    "The history of AI goes way back to Professor Alan Turing's paper, [Computing Machinery and Intelligence](https://www.csee.umbc.edu/courses/471/papers/turing.pdf), where he asked a very basic philosophical question -- \"Can machines think?\". To fast forward, it is the paper where he proposed the Turing Test. The professor posited that if a machine can convince a human being that it is intelligent, who's to say it's not? That's the Turing Test.\n",
    "\n",
    "However, this is an argument that philosophers have been trying to understand and resolve for thousands of years. To break it down, how does the human mind work? And can non-humans have minds? An intelligence we can refer to? As it is evident by today, computational approaches done by Computer Scientists have enabled machines to do everything that humans can do. Some challenge this idea, arguing that \"highly-sophisticated\" behaviours such as love, creativity, and moral choice will always be beyond the extent of any machine.\n",
    "\n",
    "Thus, leaving a room for disagreements, rendering the argument unresolved. But circling back, Scientists and engineers have already built macchines that we can call _intelligent_ -- remember the Turing Test, yes, they passed it. So, to be cautious, let us define the word \"intelligence\" in this context. According to the dictionary defintion,\n",
    "\n",
    "1. Someone's __intelligence__ is their ability to understand and learn things. (Can a machine understand learn things? Yes.)\n",
    "2. __Intelligence__ is the ability to think and understand instead of doing things by instinct or automatically. (Well, it was not specified whether it is some__one__ or some__thing__ that has the capability to think and understand.)\n",
    "\n",
    "                                                                (Essential English Dictionary, Collins, London, 1990)\n",
    "\n",
    "Since the second definition is hindering us with its unspecificity, let us define what _thinking_ means.\n",
    "\n",
    "    Thinking is the activity of using your brain to consider a problem or to create an idea.\n",
    "    \n",
    "                                                                (Essential English Dictionary, Collins, London, 1990)   \n",
    "\n",
    "With this definition, in order to think, some**one** or some**thing** must have a brain, or an organ that enables some**one** or some**thing** to learn and understand things, to solve problems, and to make decisions. Thus, we can define _intelligence_ as 'the ability to understand, to solve problems, and to make decisions'.\n",
    "\n",
    "The goal of **artificial intelligence** (AI) as a Science is to develop machines that would require intelligence if it is done by humans. We then go back to the question, \"Can machines think?\". The problem is the answer is not a simple 'Yes' or 'No', but rather a probabilistic one or vague. As humans, some of us are better in solving complex Scientific and Mathematical problems but are baffled in social contexts. Some of us are good in making money, while others are better at spending it. In other words, we all have the ability to learn and understand, to solve problems, and to make decisions. But do not expect that our abilities are equal in different areas. Hence, if machines possess intelligence, we should not expect them to be equally smart, some are better than the others."
   ]
  },
  {
   "cell_type": "markdown",
   "metadata": {},
   "source": [
    "## Machine Learning\n",
    "\n",
    "Artificial Intelligence is a very broad discipline, inheriting the characteristics of all the other Sciences today. That is, Science is a collaborative, interdisciplinary effort. To stay relevant, you must go out of the box. This makes Artificial Intelligence such an exciting and interesting field of study. You are bound to break the barrier beyond Computing Science and Mathematics, you are set to embark on a journey towards other disciplines.\n",
    "\n",
    "AI has strong links to other areas such as Cognitive Science, Psychology, and Philosophy of Mind.\n",
    "\n",
    "However, for this session, it is more practical to focus on a more specific sub-discipline of AI, i.e. Machine Learning.\n",
    "\n",
    "Machine Learning is the practice of using algorithms to parse data, learn from  it, then generalize based on it to make a determination or prediction about a specific problem domain in the real world. In contrary with software engineering, where software are written to perform specific set of instructions to accomplish a task, the machine is _trained_ using a large amount of data and algorithms to learn how to perform a task.\n",
    "\n",
    "Some Computer Scientists may argue that Machine Learning is the key to achieve Artificial General Intelligence (AGI). As it turned out, one of the very best applications for ML is computer vision. An area where machines now come close to rivaling humans with.\n",
    "\n",
    "There are several ML algorithms/approaches, but for this session, we shall be focusing on the following:\n",
    "\n",
    "* Softmax Regression (also known as Multinomial Logistic Regression)\n",
    "* Artificial Neural Networks (ANN)\n",
    "    * Convolutional Neural Networks (CNN)\n",
    "    * Recurrent Neural Networks (RNN)\n",
    "* Support Vector Machines (SVM)\n",
    "\n",
    "The problem domain we shall be tackling are\n",
    "\n",
    "* Image Classification\n",
    "* Sequence Classification\n",
    "* Text Prediction"
   ]
  },
  {
   "cell_type": "markdown",
   "metadata": {},
   "source": [
    "### References\n",
    "\n",
    "Negnevitsky, M. (2011). Artificial Intelligence: A Guide to Intelligent Systems (3rd ed.). Pearson Education Ltd.: Essex, England.\n",
    "\n",
    "Turing, A.M. (1950). Computing machinery and intelligence. Mind, 59(236), 433-460."
   ]
  }
 ],
 "metadata": {
  "kernelspec": {
   "display_name": "Python 3",
   "language": "python",
   "name": "python3"
  },
  "language_info": {
   "codemirror_mode": {
    "name": "ipython",
    "version": 3
   },
   "file_extension": ".py",
   "mimetype": "text/x-python",
   "name": "python",
   "nbconvert_exporter": "python",
   "pygments_lexer": "ipython3",
   "version": "3.5.2"
  }
 },
 "nbformat": 4,
 "nbformat_minor": 2
}
