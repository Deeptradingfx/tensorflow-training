{
 "cells": [
  {
   "cell_type": "markdown",
   "metadata": {},
   "source": [
    "# Mathematics\n",
    "\n",
    "Mathematics is the language of Science. In fact, in AI, it is the only language we can understand. This session is meant for a review on the pre-requisite Mathematics background for AI.\n",
    "\n",
    "## Calculus\n",
    "\n",
    "Calculus is the Mathematics of rate of change. A concept in Calculus that we always use and you will always encounter in your studies is _derivatives_. Derivatives may be simply defined as the rate of change of a function. In other words, how fast or how slow the function is changing, is it going up or is it going down. For a better understanding, refer to the following visualization:\n",
    "\n",
    "![](figures/derivative.gif)\n",
    "\n",
    "The simplest case for a derivative is when the given function is a linear fuction, e.g. y is a linear function of x. In other words, the graph of \\\\(y\\\\) is a line. Hence, \\\\(y = f(x) = mx+b\\\\), for \\\\(m,\\ b\\ \\in\\ \\mathbb{R}\\\\), and the slope \\\\(m\\\\) is given by\n",
    "\n",
    "\\\\[m = \\dfrac{change\\ in\\ y}{change\\ in\\ x} = \\dfrac{\\Delta y}{\\Delta x} \\\\]\n",
    "\n",
    "where the symbol \\\\(\\Delta\\\\) (Delta) is a shorthand for \"change in\".\n",
    "\n",
    "Proof:\n",
    "\n",
    "\\\\[y + \\Delta y = f(x + \\Delta x) \\\\]\n",
    "\\\\[f(x + \\Delta x) = m(x + \\Delta x) + b\\\\]\n",
    "\\\\[m(x + \\Delta x) + b = mx + m\\Delta x + b\\\\]\n",
    "\\\\[mx + m\\Delta x + b = y + m\\Delta x\\\\]\n",
    "\n",
    "Since\n",
    "\n",
    "\\\\[y + \\Delta y = y + m\\Delta x\\\\]\n",
    "\n",
    "it follows that\n",
    "\n",
    "\\\\[\\Delta y = m\\Delta x\\\\]\n",
    "\n",
    "More rigorous notation,\n",
    "\n",
    "\\\\[m = \\dfrac{\\Delta f(x)}{\\Delta x} = \\dfrac{f(x + h) - f(x)}{(x + h) - (x)} = \\dfrac{f(x + h) - f(x)}{h}\\\\]\n",
    "\n",
    "The above expression is Newton's difference quotient. The limit of the difference quotient as \\\\(h\\\\) approaches zero (if it exists) should represent the derivative of the function to \\\\((x, f(x))\\\\). This limit is then defined to be the derivative of the function \\\\(f\\\\) at x:\n",
    "\n",
    "\\\\[f'(x) = \\lim \\limits_{h \\to 0} \\dfrac{f(x + h) - f(x)}{h} \\\\]\n",
    "\n",
    "If the limit exists, the function is differentiable at \\\\(h\\\\).\n",
    "\n",
    "Example:\n",
    "\n",
    "Given a function \\\\(f(x) = 3x^{2} - 5x + 4\\\\),\n",
    "\n",
    "\\\\[f'(x) = \\lim \\limits_{h \\to 0} \\dfrac{f(x + h) - f(x)}{h} \\\\]\n",
    "\n",
    "\\\\[ = \\lim \\limits_{h \\to 0} \\dfrac{[3(x + h)^{2} - 5(x + h) + 4] - [3x^{2} - 5x + 4]}{h} \\\\]\n",
    "\n",
    "\\\\[ = \\lim \\limits_{h \\to 0} \\dfrac{3x^{2} + 6xh + 3h^{2} - 5x - 5h + 4 - 3x^{2} + 5x - 4}{h} \\\\]\n",
    "\n",
    "\\\\[ = \\lim \\limits_{h \\to 0} \\dfrac{6xh + 3h^{2} - 5h}{h} \\\\]\n",
    "\n",
    "\\\\[ = \\lim \\limits_{h \\to 0} 6x + 3h - 5 \\\\]\n",
    "\n",
    "Evaluating \\\\(h = 0\\\\),\n",
    "\n",
    "\\\\[ = 6x - 5 \\\\]\n",
    "\n",
    "\\\\(6x - 5\\\\) is the derivative \\\\(f'(x)\\\\) of the function \\\\(f(x) = 3x^{2} - 5x + 4\\\\).\n",
    "\n",
    "\n",
    "Plotting the graph using `matplotlib` of Python,"
   ]
  },
  {
   "cell_type": "code",
   "execution_count": 1,
   "metadata": {
    "collapsed": true
   },
   "outputs": [],
   "source": [
    "import matplotlib.pyplot"
   ]
  },
  {
   "cell_type": "code",
   "execution_count": 2,
   "metadata": {
    "collapsed": true
   },
   "outputs": [],
   "source": [
    "f_xs = []\n",
    "f_ys = []\n",
    "f_prime_xs = []\n",
    "f_prime_ys = []"
   ]
  },
  {
   "cell_type": "code",
   "execution_count": 3,
   "metadata": {
    "collapsed": true
   },
   "outputs": [],
   "source": [
    "# for f(x)\n",
    "for x in range(-10, 10, 1):\n",
    "    y = 3*x**2 - 5*x + 4\n",
    "    f_xs.append(x)\n",
    "    f_ys.append(y)\n",
    "    \n",
    "# for f'(x)\n",
    "for x in range(-10, 10, 1):\n",
    "    y = 6*x - 5\n",
    "    f_prime_xs.append(x)\n",
    "    f_prime_ys.append(y)"
   ]
  },
  {
   "cell_type": "code",
   "execution_count": 4,
   "metadata": {
    "collapsed": true
   },
   "outputs": [],
   "source": [
    "# instantiate a matplotlib figure\n",
    "figure = matplotlib.pyplot.figure()"
   ]
  },
  {
   "cell_type": "code",
   "execution_count": 5,
   "metadata": {},
   "outputs": [
    {
     "data": {
      "image/png": "[encoded data removed]",
      "text/plain": [
       "<matplotlib.figure.Figure at 0x7f13b6a9bdd8>"
      ]
     },
     "metadata": {},
     "output_type": "display_data"
    }
   ],
   "source": [
    "# add the plots\n",
    "f_axes = figure.add_subplot(111)\n",
    "f_axes.plot(f_xs, f_ys)\n",
    "f_prime_axes = figure.add_subplot(111)\n",
    "f_prime_axes.plot(f_prime_xs, f_prime_ys)\n",
    "\n",
    "# add a grid\n",
    "matplotlib.pyplot.grid()\n",
    "\n",
    "# show the plot\n",
    "matplotlib.pyplot.show()"
   ]
  }
 ],
 "metadata": {
  "kernelspec": {
   "display_name": "Python 3",
   "language": "python",
   "name": "python3"
  },
  "language_info": {
   "codemirror_mode": {
    "name": "ipython",
    "version": 3
   },
   "file_extension": ".py",
   "mimetype": "text/x-python",
   "name": "python",
   "nbconvert_exporter": "python",
   "pygments_lexer": "ipython3",
   "version": "3.5.2"
  }
 },
 "nbformat": 4,
 "nbformat_minor": 2
}
