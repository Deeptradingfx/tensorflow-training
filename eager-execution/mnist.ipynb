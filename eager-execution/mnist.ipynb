{
 "cells": [
  {
   "cell_type": "code",
   "execution_count": 1,
   "metadata": {},
   "outputs": [],
   "source": [
    "import numpy as np\n",
    "import tensorflow as tf\n",
    "import tensorflow.contrib.eager as tfe\n",
    "from tensorflow.keras.datasets import mnist"
   ]
  },
  {
   "cell_type": "code",
   "execution_count": 2,
   "metadata": {},
   "outputs": [],
   "source": [
    "# enable eager execution\n",
    "tf.enable_eager_execution()\n",
    "tf.set_random_seed(123456)\n",
    "np.random.seed(654321)"
   ]
  },
  {
   "cell_type": "code",
   "execution_count": 3,
   "metadata": {},
   "outputs": [],
   "source": [
    "(x_train, y_train), (x_test, y_test) = mnist.load_data()"
   ]
  },
  {
   "cell_type": "code",
   "execution_count": 4,
   "metadata": {},
   "outputs": [],
   "source": [
    "# reshape images to [size, 784]\n",
    "x_train = x_train.reshape(-1, 784).astype(np.float32)\n",
    "x_test = x_test.reshape(-1, 784).astype(np.float32)\n",
    "\n",
    "# one-hot encode labels\n",
    "y_train, y_test = tf.keras.utils.to_categorical(y_train), tf.keras.utils.to_categorical(y_test)"
   ]
  },
  {
   "cell_type": "code",
   "execution_count": 5,
   "metadata": {},
   "outputs": [],
   "source": [
    "class FeedForwardNeuralNetwork(tf.keras.Model):\n",
    "    def __init__(self):\n",
    "        super(FeedForwardNeuralNetwork, self).__init__()\n",
    "        \n",
    "        # create the first hidden layer with 512 units,\n",
    "        # accepting an input with shape (784),\n",
    "        # uses relu function, \n",
    "        # with bias parameters\n",
    "        self.hidden_layer_1 = tf.layers.Dense(512, input_shape=(784,), activation=tf.nn.relu, use_bias=True)\n",
    "        \n",
    "        # create a second hidden layer with 256 units,\n",
    "        # uses relu function,\n",
    "        # with bias parameters\n",
    "        self.hidden_layer_2 = tf.layers.Dense(256, activation=tf.nn.relu, use_bias=True)\n",
    "        \n",
    "        # add dropout\n",
    "        self.dropout = tf.layers.Dropout()\n",
    "        \n",
    "        # create a linear layer for class predictions\n",
    "        self.output_layer = tf.layers.Dense(10, use_bias=True, activation=None)\n",
    "        \n",
    "    def call(self, x):\n",
    "        # stack hidden layers\n",
    "        h1 = self.hidden_layer_1(x)\n",
    "        h2 = self.hidden_layer_2(h1)\n",
    "        h2 = self.dropout(h2)\n",
    "        \n",
    "        # return logits when called to produce predictions\n",
    "        return self.output_layer(h2)"
   ]
  },
  {
   "cell_type": "code",
   "execution_count": 6,
   "metadata": {},
   "outputs": [],
   "source": [
    "model = FeedForwardNeuralNetwork()"
   ]
  },
  {
   "cell_type": "code",
   "execution_count": 7,
   "metadata": {},
   "outputs": [],
   "source": [
    "def loss(model, logits, labels):\n",
    "    return tf.reduce_mean(tf.nn.softmax_cross_entropy_with_logits_v2(logits=model(logits), labels=labels))"
   ]
  },
  {
   "cell_type": "code",
   "execution_count": 8,
   "metadata": {},
   "outputs": [],
   "source": [
    "opt = tf.train.AdamOptimizer(learning_rate=1e-3)"
   ]
  },
  {
   "cell_type": "code",
   "execution_count": 9,
   "metadata": {},
   "outputs": [],
   "source": [
    "def train_step(loss, model, opt, x, y):\n",
    "    opt.minimize(lambda: loss(model, x, y), global_step=tf.train.get_or_create_global_step())"
   ]
  },
  {
   "cell_type": "code",
   "execution_count": 10,
   "metadata": {
    "scrolled": true
   },
   "outputs": [],
   "source": [
    "train_dataset = tf.data.Dataset.from_tensor_slices((x_train, y_train))\n",
    "\n",
    "epochs = 20\n",
    "accuracy_history = np.zeros(epochs)\n",
    "writer = tf.contrib.summary.create_file_writer('tmp')\n",
    "\n",
    "with writer.as_default():\n",
    "    with tf.contrib.summary.always_record_summaries():\n",
    "        for epoch in range(epochs):\n",
    "            accuracy = tfe.metrics.Accuracy()\n",
    "            \n",
    "            for x_batch, y_batch in tfe.Iterator(train_dataset.shuffle(1000).batch(512)):\n",
    "                \n",
    "                x_batch += tf.random_normal(shape=x_batch.shape, stddev=5e-2)\n",
    "                \n",
    "                tf.contrib.summary.scalar('loss_value', loss(model, x_batch, y_batch))\n",
    "                \n",
    "                train_step(loss, model, opt, x_batch, y_batch)\n",
    "                \n",
    "                accuracy(tf.argmax(model(tf.constant(x_batch)), axis=1), tf.argmax(tf.constant(y_batch), axis=1))\n",
    "                \n",
    "                tf.contrib.summary.scalar('accuracy_value', accuracy.result().numpy())\n",
    "                \n",
    "            accuracy_history[epoch] = accuracy.result().numpy()"
   ]
  },
  {
   "cell_type": "code",
   "execution_count": 12,
   "metadata": {},
   "outputs": [],
   "source": [
    "test_accuracy = tf.contrib.metrics.accuracy(predictions=tf.argmax(model(tf.constant(x_test)), axis=1),\n",
    "                                            labels=tf.argmax(tf.constant(y_test), axis=1))"
   ]
  },
  {
   "cell_type": "code",
   "execution_count": 13,
   "metadata": {},
   "outputs": [
    {
     "data": {
      "text/plain": [
       "0.965"
      ]
     },
     "execution_count": 13,
     "metadata": {},
     "output_type": "execute_result"
    }
   ],
   "source": [
    "test_accuracy.numpy()"
   ]
  },
  {
   "cell_type": "code",
   "execution_count": 14,
   "metadata": {},
   "outputs": [
    {
     "data": {
      "image/png": "[encoded data removed]",
      "text/plain": [
       "<Figure size 432x288 with 1 Axes>"
      ]
     },
     "metadata": {
      "needs_background": "light"
     },
     "output_type": "display_data"
    }
   ],
   "source": [
    "import matplotlib.pyplot as plt\n",
    "\n",
    "plt.figure()\n",
    "plt.plot(accuracy_history)\n",
    "plt.grid()\n",
    "plt.xlabel('Epoch')\n",
    "plt.ylabel('Accuracy')\n",
    "plt.show()"
   ]
  }
 ],
 "metadata": {
  "kernelspec": {
   "display_name": "Python 3",
   "language": "python",
   "name": "python3"
  },
  "language_info": {
   "codemirror_mode": {
    "name": "ipython",
    "version": 3
   },
   "file_extension": ".py",
   "mimetype": "text/x-python",
   "name": "python",
   "nbconvert_exporter": "python",
   "pygments_lexer": "ipython3",
   "version": "3.6.6"
  }
 },
 "nbformat": 4,
 "nbformat_minor": 2
}
